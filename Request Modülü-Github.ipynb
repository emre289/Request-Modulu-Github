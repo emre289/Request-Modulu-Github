{
 "cells": [
  {
   "cell_type": "code",
   "execution_count": null,
   "id": "4b4c7456",
   "metadata": {},
   "outputs": [
    {
     "name": "stdout",
     "output_type": "stream",
     "text": [
      "*********************WELCOME TO ACCOUNT OF GİTHUB USERS********************\n",
      "1- Find Users\n",
      "2- Find Repository\n",
      "3- Exit\n",
      "Seçim: 1\n",
      "Account Name: emre289\n",
      "Name: Emre Demirbaş\n",
      "Bio: Jr. Data Science - Elektrik Elektonik Mühendisi\n",
      "Public Repository: 12\n",
      "Follower : 8\n",
      "1- Find Users\n",
      "2- Find Repository\n",
      "3- Exit\n",
      "Seçim: 2\n",
      "Account Name: emre289\n",
      "REPOSİTORY:\n",
      "\n",
      "ActivityGecisleri\n",
      "barChar\n",
      "BesinlerKitabi\n",
      "demirbasInstagram\n",
      "faceDeteck\n",
      "grafik\n",
      "kronometre\n",
      "linkegit\n",
      "Ogrenci-Kayit-Sistemi\n",
      "Python-Ile-Iris-VeriSeti-Incelenmesi\n",
      "Python-Sayi-Tahmini-Yarismasi\n",
      "Rock-Paper-Scissors-Gamer\n"
     ]
    }
   ],
   "source": [
    "import requests\n",
    "\n",
    "class Github:\n",
    "    def __init__(self):\n",
    "        # Temel Api Adresimiz. Aşağıdaki Metodlar Üzerinde de Yapılandıracağız.\n",
    "        self.url=\"https://api.github.com/\"\n",
    "        \n",
    "        \n",
    "    def getUser(self,name):\n",
    "        # Bilgi Talep Edeceğimiz İçin request.get() kullandık\n",
    "        response=requests.get(self.url+\"users/\"+name)\n",
    "        return response.json()\n",
    "    \n",
    "    def getRepo(self,name):\n",
    "        response=requests.get(self.url+\"users/\"+name+\"/repos\")\n",
    "        # Bize Response Geldi. Pythonda Kullanabilmemiz İçin Sözlük(Dic) Çeviriyor \n",
    "        return response.json()\n",
    "        \n",
    "#NESNE OLUŞTURDUK. BUNUN ÜZERİNDEN YUKARIDAKİ METODLARA ERİŞEBİLECEĞİZ        \n",
    "github=Github()        \n",
    "\n",
    "print(\"WELCOME TO ACCOUNT OF GİTHUB USERS\".center(75,\"*\"))\n",
    "while True:\n",
    "    secim=input(\"1- Find Users\\n2- Find Repository\\n3- Exit\\nSeçim: \")\n",
    "    if secim==\"3\":\n",
    "        print(\"Application Closed\")\n",
    "        break\n",
    "    else:\n",
    "        if secim==\"1\":\n",
    "            name=input(\"Account Name: \")\n",
    "            result=github.getUser(name)\n",
    "            print(f\"Name: {result['name']}\\nBio: {result['bio']}\\nPublic Repository: {result['public_repos']}\\nFollower : {result['followers']}\")\n",
    "            \n",
    "            \n",
    "            \n",
    "        elif secim==\"2\":\n",
    "            name=input(\"Account Name: \")\n",
    "            result=github.getRepo(name)\n",
    "            print(\"REPOSİTORY:\\n\")\n",
    "            \n",
    "            \n",
    "            # getRepo Metodunda Response Bize Bir Dizi Gönderiyor. Bu Dizide ki Name(Repository) Bilgisine For İle Ulaştık.\n",
    "            for i in result:\n",
    "                print(i['name'])\n",
    "            \n",
    "        else:\n",
    "            print(\"You made a mistake\")\n",
    "        "
   ]
  },
  {
   "cell_type": "code",
   "execution_count": null,
   "id": "055860f3",
   "metadata": {},
   "outputs": [],
   "source": []
  }
 ],
 "metadata": {
  "kernelspec": {
   "display_name": "Python 3 (ipykernel)",
   "language": "python",
   "name": "python3"
  },
  "language_info": {
   "codemirror_mode": {
    "name": "ipython",
    "version": 3
   },
   "file_extension": ".py",
   "mimetype": "text/x-python",
   "name": "python",
   "nbconvert_exporter": "python",
   "pygments_lexer": "ipython3",
   "version": "3.9.7"
  }
 },
 "nbformat": 4,
 "nbformat_minor": 5
}
